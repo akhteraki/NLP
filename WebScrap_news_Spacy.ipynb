{
  "nbformat": 4,
  "nbformat_minor": 0,
  "metadata": {
    "colab": {
      "name": "WebScrap_news_Spacy.ipynb",
      "provenance": []
    },
    "kernelspec": {
      "name": "python3",
      "display_name": "Python 3"
    }
  },
  "cells": [
    {
      "cell_type": "code",
      "metadata": {
        "id": "2_UF-s67KJoy",
        "colab": {
          "base_uri": "https://localhost:8080/"
        },
        "outputId": "a605c168-a43c-4dd3-8b2b-b3c36d968760"
      },
      "source": [
        "from datetime import date\n",
        "today = date.today()\n",
        "d=today.strftime(\"%m-%d-%y\")\n",
        "print(\"Date today = \", d)"
      ],
      "execution_count": null,
      "outputs": [
        {
          "output_type": "stream",
          "text": [
            "Date today =  01-31-21\n"
          ],
          "name": "stdout"
        }
      ]
    },
    {
      "cell_type": "code",
      "metadata": {
        "id": "2sN7lAO6Kvhi"
      },
      "source": [
        "cnn_url = \"https://edition.cnn.com/world/live-news/coronavirus-pandemic-05-07-20-intl/index.html\".format(d)"
      ],
      "execution_count": null,
      "outputs": []
    },
    {
      "cell_type": "code",
      "metadata": {
        "id": "i8x5BHK-1iQ-",
        "colab": {
          "base_uri": "https://localhost:8080/"
        },
        "outputId": "063e7a27-1e1e-42ab-eb14-2502a70dd5d8"
      },
      "source": [
        "print(cnn_url)"
      ],
      "execution_count": null,
      "outputs": [
        {
          "output_type": "stream",
          "text": [
            "https://edition.cnn.com/world/live-news/coronavirus-pandemic-05-07-20-intl/index.html\n"
          ],
          "name": "stdout"
        }
      ]
    },
    {
      "cell_type": "code",
      "metadata": {
        "id": "_T_rnaJh1lfJ"
      },
      "source": [
        "from bs4 import BeautifulSoup\n",
        "import requests"
      ],
      "execution_count": null,
      "outputs": []
    },
    {
      "cell_type": "code",
      "metadata": {
        "id": "cB_AfTOM1yka"
      },
      "source": [
        "html = requests.get(cnn_url).text"
      ],
      "execution_count": null,
      "outputs": []
    },
    {
      "cell_type": "code",
      "metadata": {
        "id": "pc65rZ4-166g",
        "colab": {
          "base_uri": "https://localhost:8080/"
        },
        "outputId": "2ee56e5e-4209-439e-c471-eb4979a83731"
      },
      "source": [
        "soup=BeautifulSoup(html)\n",
        "print(soup.title)"
      ],
      "execution_count": null,
      "outputs": [
        {
          "output_type": "stream",
          "text": [
            "<title data-rh=\"true\">May 7, 2020 coronavirus news</title>\n"
          ],
          "name": "stdout"
        }
      ]
    },
    {
      "cell_type": "code",
      "metadata": {
        "id": "9TUhOdWZ2FKO"
      },
      "source": [
        "import spacy\n",
        "nlp = spacy.load('en_core_web_sm')"
      ],
      "execution_count": null,
      "outputs": []
    },
    {
      "cell_type": "code",
      "metadata": {
        "id": "oRAgz4lM2O3W",
        "colab": {
          "base_uri": "https://localhost:8080/"
        },
        "outputId": "9dbbffd2-fe55-41f1-ed3d-951eeff7dbee"
      },
      "source": [
        "#h2 tags, if U right click on CNN website it has h2 tags\n",
        "for link in soup.find_all(\"h2\"):\n",
        "  print(\"Headline : {}\".format(link.text))\n",
        "  for ent in nlp(link.text).ents:\n",
        "    print(\"\\t Text : {}, Entity : {}\".format(ent.text, ent.label_))\n",
        "\n"
      ],
      "execution_count": null,
      "outputs": [
        {
          "output_type": "stream",
          "text": [
            "Headline : What you need to know\n",
            "Headline : \n",
            "Headline : CNN's coronavirus town hall has ended\n",
            "\t Text : CNN, Entity : ORG\n",
            "\t Text : coronavirus town hall, Entity : ORG\n",
            "Headline : Al Gore: It \"makes no sense\" to filter scientific knowledge through the White House \n",
            "\t Text : Al Gore, Entity : PERSON\n",
            "\t Text : the White House, Entity : FAC\n",
            "Headline : Al Gore: Trump \"has failed as president, particularly on this challenge\"\n",
            "\t Text : Al Gore, Entity : PERSON\n",
            "Headline : Life will never be the same after the pandemic passes, says public health journalist\n",
            "Headline : Safe grocery shopping: \"Get in, get out,\" Dr. Sanjay Gupta says\n",
            "\t Text : Sanjay Gupta, Entity : PERSON\n",
            "Headline : \"We don't have a unified approach,\" public health journalist says\n",
            "Headline : Here are your questions, answered by health experts\n",
            "Headline : A 29-year-old volunteer explains why he's taking part in vaccine trials\n"
          ],
          "name": "stdout"
        }
      ]
    },
    {
      "cell_type": "code",
      "metadata": {
        "id": "uCpWgM_V3CYH"
      },
      "source": [
        "#Different urls\n",
        "#cbnc has xml format, no date\n",
        "nbc_url=\"https://www.nbcnews.com/health/health-news/social-distancing-could-have-devastating-effect-people-depression-n1157871\"\n",
        "cnbc_rss_url=\"https://www.cnbc.com/2020/05/14/the-coronavirus-pandemic-is-causing-a-mental-health-crisis-un-warns.html\"\n",
        "\n",
        "\n"
      ],
      "execution_count": null,
      "outputs": []
    },
    {
      "cell_type": "code",
      "metadata": {
        "id": "T6g51NEx-Txe"
      },
      "source": [
        "urls=[cnn_url,nbc_url,cnbc_rss_url]\n",
        "formats = ['html.parser','html.parser','xml']\n",
        "tags=['h2','h2','description']\n",
        "website=['CNN','NBC','CNBC']"
      ],
      "execution_count": null,
      "outputs": []
    },
    {
      "cell_type": "code",
      "metadata": {
        "id": "FRsYj0fr7ygO",
        "colab": {
          "base_uri": "https://localhost:8080/"
        },
        "outputId": "124667b6-1fb7-4835-f1f6-75ad2cdf75ac"
      },
      "source": [
        "#Check all urls, I need atleast 4 words\n",
        "crawl_len=0\n",
        "for url in urls:\n",
        "  print(\"Crawling webpage.........{}\".format(url))\n",
        "  response = requests.get(url)\n",
        "  soup=BeautifulSoup(response.content,formats[crawl_len])\n",
        "\n",
        "  for link in soup.find_all(tags[crawl_len]):\n",
        "\n",
        "    if(len(link.text.split(\" \")) > 4):\n",
        "      print(\"Headline : {}\".format(link.text))\n",
        "\n",
        "      entities=[]\n",
        "      for ent in nlp(link.text).ents:\n",
        "        print(\"\\tText : {}, Entity : {}\".format(ent.text, ent.label_))\n",
        "        #crawl_len = crawl_len+1"
      ],
      "execution_count": null,
      "outputs": [
        {
          "output_type": "stream",
          "text": [
            "Crawling webpage.........https://edition.cnn.com/world/live-news/coronavirus-pandemic-05-07-20-intl/index.html\n",
            "Headline : What you need to know\n",
            "Headline : CNN's coronavirus town hall has ended\n",
            "\tText : CNN, Entity : ORG\n",
            "\tText : coronavirus town hall, Entity : ORG\n",
            "Headline : Al Gore: It \"makes no sense\" to filter scientific knowledge through the White House \n",
            "\tText : Al Gore, Entity : PERSON\n",
            "\tText : the White House, Entity : FAC\n",
            "Headline : Al Gore: Trump \"has failed as president, particularly on this challenge\"\n",
            "\tText : Al Gore, Entity : PERSON\n",
            "Headline : Life will never be the same after the pandemic passes, says public health journalist\n",
            "Headline : Safe grocery shopping: \"Get in, get out,\" Dr. Sanjay Gupta says\n",
            "\tText : Sanjay Gupta, Entity : PERSON\n",
            "Headline : \"We don't have a unified approach,\" public health journalist says\n",
            "Headline : Here are your questions, answered by health experts\n",
            "Headline : A 29-year-old volunteer explains why he's taking part in vaccine trials\n",
            "Crawling webpage.........https://www.nbcnews.com/health/health-news/social-distancing-could-have-devastating-effect-people-depression-n1157871\n",
            "Headline : Coronavirus outbreak sparks mental health concerns\n",
            "\tText : Coronavirus, Entity : ORG\n",
            "Headline : Willie and Morgan recommend shows and books for social distancing\n",
            "\tText : Willie, Entity : PERSON\n",
            "\tText : Morgan, Entity : PERSON\n",
            "Crawling webpage.........https://www.cnbc.com/2020/05/14/the-coronavirus-pandemic-is-causing-a-mental-health-crisis-un-warns.html\n"
          ],
          "name": "stdout"
        }
      ]
    },
    {
      "cell_type": "code",
      "metadata": {
        "id": "41kD63d_-D6N",
        "colab": {
          "base_uri": "https://localhost:8080/"
        },
        "outputId": "9dc8261f-2646-4b36-f6d4-5cce53f46fb5"
      },
      "source": [
        "#Put in pandas dataframe\n",
        "crawl_len=0\n",
        "news_dict=[]\n",
        "for url in urls:\n",
        "  print(\"Crawling webpage.........{}\".format(url))\n",
        "  response = requests.get(url)\n",
        "  soup=BeautifulSoup(response.content,formats[crawl_len])\n",
        "\n",
        "  for link in soup.find_all(tags[crawl_len]):\n",
        "\n",
        "    if(len(link.text.split(\" \")) > 4):\n",
        "      print(\"Headline : {}\".format(link.text))\n",
        "\n",
        "      entities=[]\n",
        "      entities=[(ent.text, ent.label_) for ent in nlp(link.text).ents]\n",
        "      news_dict.append({'Website':website[crawl_len],'url':url,'headline':link.text,'entities':entities})\n",
        "    #crawl_len = crawl_len+1"
      ],
      "execution_count": null,
      "outputs": [
        {
          "output_type": "stream",
          "text": [
            "Crawling webpage.........https://edition.cnn.com/world/live-news/coronavirus-pandemic-05-07-20-intl/index.html\n",
            "Headline : What you need to know\n",
            "Headline : CNN's coronavirus town hall has ended\n",
            "Headline : Al Gore: It \"makes no sense\" to filter scientific knowledge through the White House \n",
            "Headline : Al Gore: Trump \"has failed as president, particularly on this challenge\"\n",
            "Headline : Life will never be the same after the pandemic passes, says public health journalist\n",
            "Headline : Safe grocery shopping: \"Get in, get out,\" Dr. Sanjay Gupta says\n",
            "Headline : \"We don't have a unified approach,\" public health journalist says\n",
            "Headline : Here are your questions, answered by health experts\n",
            "Headline : A 29-year-old volunteer explains why he's taking part in vaccine trials\n",
            "Crawling webpage.........https://www.nbcnews.com/health/health-news/social-distancing-could-have-devastating-effect-people-depression-n1157871\n",
            "Headline : Coronavirus outbreak sparks mental health concerns\n",
            "Headline : Willie and Morgan recommend shows and books for social distancing\n",
            "Crawling webpage.........https://www.cnbc.com/2020/05/14/the-coronavirus-pandemic-is-causing-a-mental-health-crisis-un-warns.html\n"
          ],
          "name": "stdout"
        }
      ]
    },
    {
      "cell_type": "code",
      "metadata": {
        "id": "lTPYiXbRJwFc",
        "colab": {
          "base_uri": "https://localhost:8080/"
        },
        "outputId": "242d3909-89a1-4343-f72e-90410045fe70"
      },
      "source": [
        "news_dict"
      ],
      "execution_count": null,
      "outputs": [
        {
          "output_type": "execute_result",
          "data": {
            "text/plain": [
              "[{'Website': 'CNN',\n",
              "  'entities': [],\n",
              "  'headline': 'What you need to know',\n",
              "  'url': 'https://edition.cnn.com/world/live-news/coronavirus-pandemic-05-07-20-intl/index.html'},\n",
              " {'Website': 'CNN',\n",
              "  'entities': [('CNN', 'ORG'), ('coronavirus town hall', 'ORG')],\n",
              "  'headline': \"CNN's coronavirus town hall has ended\",\n",
              "  'url': 'https://edition.cnn.com/world/live-news/coronavirus-pandemic-05-07-20-intl/index.html'},\n",
              " {'Website': 'CNN',\n",
              "  'entities': [('Al Gore', 'PERSON'), ('the White House', 'FAC')],\n",
              "  'headline': 'Al Gore: It \"makes no sense\" to filter scientific knowledge through the White House\\xa0',\n",
              "  'url': 'https://edition.cnn.com/world/live-news/coronavirus-pandemic-05-07-20-intl/index.html'},\n",
              " {'Website': 'CNN',\n",
              "  'entities': [('Al Gore', 'PERSON')],\n",
              "  'headline': 'Al Gore: Trump \"has failed as president, particularly on this challenge\"',\n",
              "  'url': 'https://edition.cnn.com/world/live-news/coronavirus-pandemic-05-07-20-intl/index.html'},\n",
              " {'Website': 'CNN',\n",
              "  'entities': [],\n",
              "  'headline': 'Life will never be the same after the pandemic passes, says public health journalist',\n",
              "  'url': 'https://edition.cnn.com/world/live-news/coronavirus-pandemic-05-07-20-intl/index.html'},\n",
              " {'Website': 'CNN',\n",
              "  'entities': [('Sanjay Gupta', 'PERSON')],\n",
              "  'headline': 'Safe grocery shopping: \"Get in, get out,\" Dr. Sanjay Gupta says',\n",
              "  'url': 'https://edition.cnn.com/world/live-news/coronavirus-pandemic-05-07-20-intl/index.html'},\n",
              " {'Website': 'CNN',\n",
              "  'entities': [],\n",
              "  'headline': '\"We don\\'t have a unified approach,\" public health journalist says',\n",
              "  'url': 'https://edition.cnn.com/world/live-news/coronavirus-pandemic-05-07-20-intl/index.html'},\n",
              " {'Website': 'CNN',\n",
              "  'entities': [],\n",
              "  'headline': 'Here are your questions, answered by health experts',\n",
              "  'url': 'https://edition.cnn.com/world/live-news/coronavirus-pandemic-05-07-20-intl/index.html'},\n",
              " {'Website': 'CNN',\n",
              "  'entities': [],\n",
              "  'headline': \"A 29-year-old volunteer explains why he's taking part in vaccine trials\",\n",
              "  'url': 'https://edition.cnn.com/world/live-news/coronavirus-pandemic-05-07-20-intl/index.html'},\n",
              " {'Website': 'CNN',\n",
              "  'entities': [('Coronavirus', 'ORG')],\n",
              "  'headline': 'Coronavirus outbreak sparks mental health concerns',\n",
              "  'url': 'https://www.nbcnews.com/health/health-news/social-distancing-could-have-devastating-effect-people-depression-n1157871'},\n",
              " {'Website': 'CNN',\n",
              "  'entities': [('Willie', 'PERSON'), ('Morgan', 'PERSON')],\n",
              "  'headline': 'Willie and Morgan recommend shows and books for social distancing',\n",
              "  'url': 'https://www.nbcnews.com/health/health-news/social-distancing-could-have-devastating-effect-people-depression-n1157871'}]"
            ]
          },
          "metadata": {
            "tags": []
          },
          "execution_count": 13
        }
      ]
    },
    {
      "cell_type": "code",
      "metadata": {
        "id": "d1MOYF2ONyUs"
      },
      "source": [
        "import pandas as pd\n",
        "news_df = pd.DataFrame(news_dict)"
      ],
      "execution_count": null,
      "outputs": []
    },
    {
      "cell_type": "code",
      "metadata": {
        "id": "n0loF85mOKqt",
        "colab": {
          "base_uri": "https://localhost:8080/"
        },
        "outputId": "348db571-5a68-4aca-a523-18d14d5e5e41"
      },
      "source": [
        "pd.set_option('max_colwidth',800)\n",
        "news_df.head(20)"
      ],
      "execution_count": null,
      "outputs": [
        {
          "output_type": "execute_result",
          "data": {
            "text/html": [
              "<div>\n",
              "<style scoped>\n",
              "    .dataframe tbody tr th:only-of-type {\n",
              "        vertical-align: middle;\n",
              "    }\n",
              "\n",
              "    .dataframe tbody tr th {\n",
              "        vertical-align: top;\n",
              "    }\n",
              "\n",
              "    .dataframe thead th {\n",
              "        text-align: right;\n",
              "    }\n",
              "</style>\n",
              "<table border=\"1\" class=\"dataframe\">\n",
              "  <thead>\n",
              "    <tr style=\"text-align: right;\">\n",
              "      <th></th>\n",
              "      <th>Website</th>\n",
              "      <th>url</th>\n",
              "      <th>headline</th>\n",
              "      <th>entities</th>\n",
              "    </tr>\n",
              "  </thead>\n",
              "  <tbody>\n",
              "    <tr>\n",
              "      <th>0</th>\n",
              "      <td>CNN</td>\n",
              "      <td>https://edition.cnn.com/world/live-news/coronavirus-pandemic-05-07-20-intl/index.html</td>\n",
              "      <td>What you need to know</td>\n",
              "      <td>[]</td>\n",
              "    </tr>\n",
              "    <tr>\n",
              "      <th>1</th>\n",
              "      <td>CNN</td>\n",
              "      <td>https://edition.cnn.com/world/live-news/coronavirus-pandemic-05-07-20-intl/index.html</td>\n",
              "      <td>CNN's coronavirus town hall has ended</td>\n",
              "      <td>[(CNN, ORG), (coronavirus town hall, ORG)]</td>\n",
              "    </tr>\n",
              "    <tr>\n",
              "      <th>2</th>\n",
              "      <td>CNN</td>\n",
              "      <td>https://edition.cnn.com/world/live-news/coronavirus-pandemic-05-07-20-intl/index.html</td>\n",
              "      <td>Al Gore: It \"makes no sense\" to filter scientific knowledge through the White House</td>\n",
              "      <td>[(Al Gore, PERSON), (the White House, FAC)]</td>\n",
              "    </tr>\n",
              "    <tr>\n",
              "      <th>3</th>\n",
              "      <td>CNN</td>\n",
              "      <td>https://edition.cnn.com/world/live-news/coronavirus-pandemic-05-07-20-intl/index.html</td>\n",
              "      <td>Al Gore: Trump \"has failed as president, particularly on this challenge\"</td>\n",
              "      <td>[(Al Gore, PERSON)]</td>\n",
              "    </tr>\n",
              "    <tr>\n",
              "      <th>4</th>\n",
              "      <td>CNN</td>\n",
              "      <td>https://edition.cnn.com/world/live-news/coronavirus-pandemic-05-07-20-intl/index.html</td>\n",
              "      <td>Life will never be the same after the pandemic passes, says public health journalist</td>\n",
              "      <td>[]</td>\n",
              "    </tr>\n",
              "    <tr>\n",
              "      <th>5</th>\n",
              "      <td>CNN</td>\n",
              "      <td>https://edition.cnn.com/world/live-news/coronavirus-pandemic-05-07-20-intl/index.html</td>\n",
              "      <td>Safe grocery shopping: \"Get in, get out,\" Dr. Sanjay Gupta says</td>\n",
              "      <td>[(Sanjay Gupta, PERSON)]</td>\n",
              "    </tr>\n",
              "    <tr>\n",
              "      <th>6</th>\n",
              "      <td>CNN</td>\n",
              "      <td>https://edition.cnn.com/world/live-news/coronavirus-pandemic-05-07-20-intl/index.html</td>\n",
              "      <td>\"We don't have a unified approach,\" public health journalist says</td>\n",
              "      <td>[]</td>\n",
              "    </tr>\n",
              "    <tr>\n",
              "      <th>7</th>\n",
              "      <td>CNN</td>\n",
              "      <td>https://edition.cnn.com/world/live-news/coronavirus-pandemic-05-07-20-intl/index.html</td>\n",
              "      <td>Here are your questions, answered by health experts</td>\n",
              "      <td>[]</td>\n",
              "    </tr>\n",
              "    <tr>\n",
              "      <th>8</th>\n",
              "      <td>CNN</td>\n",
              "      <td>https://edition.cnn.com/world/live-news/coronavirus-pandemic-05-07-20-intl/index.html</td>\n",
              "      <td>A 29-year-old volunteer explains why he's taking part in vaccine trials</td>\n",
              "      <td>[]</td>\n",
              "    </tr>\n",
              "    <tr>\n",
              "      <th>9</th>\n",
              "      <td>CNN</td>\n",
              "      <td>https://www.nbcnews.com/health/health-news/social-distancing-could-have-devastating-effect-people-depression-n1157871</td>\n",
              "      <td>Coronavirus outbreak sparks mental health concerns</td>\n",
              "      <td>[(Coronavirus, ORG)]</td>\n",
              "    </tr>\n",
              "    <tr>\n",
              "      <th>10</th>\n",
              "      <td>CNN</td>\n",
              "      <td>https://www.nbcnews.com/health/health-news/social-distancing-could-have-devastating-effect-people-depression-n1157871</td>\n",
              "      <td>Willie and Morgan recommend shows and books for social distancing</td>\n",
              "      <td>[(Willie, PERSON), (Morgan, PERSON)]</td>\n",
              "    </tr>\n",
              "  </tbody>\n",
              "</table>\n",
              "</div>"
            ],
            "text/plain": [
              "   Website  ...                                     entities\n",
              "0      CNN  ...                                           []\n",
              "1      CNN  ...   [(CNN, ORG), (coronavirus town hall, ORG)]\n",
              "2      CNN  ...  [(Al Gore, PERSON), (the White House, FAC)]\n",
              "3      CNN  ...                          [(Al Gore, PERSON)]\n",
              "4      CNN  ...                                           []\n",
              "5      CNN  ...                     [(Sanjay Gupta, PERSON)]\n",
              "6      CNN  ...                                           []\n",
              "7      CNN  ...                                           []\n",
              "8      CNN  ...                                           []\n",
              "9      CNN  ...                         [(Coronavirus, ORG)]\n",
              "10     CNN  ...         [(Willie, PERSON), (Morgan, PERSON)]\n",
              "\n",
              "[11 rows x 4 columns]"
            ]
          },
          "metadata": {
            "tags": []
          },
          "execution_count": 15
        }
      ]
    },
    {
      "cell_type": "code",
      "metadata": {
        "id": "npE2Mpq9OtO_",
        "colab": {
          "base_uri": "https://localhost:8080/"
        },
        "outputId": "7f626f87-41bd-4d37-c1b8-3acb31141ae1"
      },
      "source": [
        "pd.concat([news_df[['Website','url','headline']],news_df['entities'].apply(pd.Series)],axis=1)"
      ],
      "execution_count": null,
      "outputs": [
        {
          "output_type": "execute_result",
          "data": {
            "text/html": [
              "<div>\n",
              "<style scoped>\n",
              "    .dataframe tbody tr th:only-of-type {\n",
              "        vertical-align: middle;\n",
              "    }\n",
              "\n",
              "    .dataframe tbody tr th {\n",
              "        vertical-align: top;\n",
              "    }\n",
              "\n",
              "    .dataframe thead th {\n",
              "        text-align: right;\n",
              "    }\n",
              "</style>\n",
              "<table border=\"1\" class=\"dataframe\">\n",
              "  <thead>\n",
              "    <tr style=\"text-align: right;\">\n",
              "      <th></th>\n",
              "      <th>Website</th>\n",
              "      <th>url</th>\n",
              "      <th>headline</th>\n",
              "      <th>0</th>\n",
              "      <th>1</th>\n",
              "    </tr>\n",
              "  </thead>\n",
              "  <tbody>\n",
              "    <tr>\n",
              "      <th>0</th>\n",
              "      <td>CNN</td>\n",
              "      <td>https://edition.cnn.com/world/live-news/coronavirus-pandemic-05-07-20-intl/index.html</td>\n",
              "      <td>What you need to know</td>\n",
              "      <td>NaN</td>\n",
              "      <td>NaN</td>\n",
              "    </tr>\n",
              "    <tr>\n",
              "      <th>1</th>\n",
              "      <td>CNN</td>\n",
              "      <td>https://edition.cnn.com/world/live-news/coronavirus-pandemic-05-07-20-intl/index.html</td>\n",
              "      <td>CNN's coronavirus town hall has ended</td>\n",
              "      <td>(CNN, ORG)</td>\n",
              "      <td>(coronavirus town hall, ORG)</td>\n",
              "    </tr>\n",
              "    <tr>\n",
              "      <th>2</th>\n",
              "      <td>CNN</td>\n",
              "      <td>https://edition.cnn.com/world/live-news/coronavirus-pandemic-05-07-20-intl/index.html</td>\n",
              "      <td>Al Gore: It \"makes no sense\" to filter scientific knowledge through the White House</td>\n",
              "      <td>(Al Gore, PERSON)</td>\n",
              "      <td>(the White House, FAC)</td>\n",
              "    </tr>\n",
              "    <tr>\n",
              "      <th>3</th>\n",
              "      <td>CNN</td>\n",
              "      <td>https://edition.cnn.com/world/live-news/coronavirus-pandemic-05-07-20-intl/index.html</td>\n",
              "      <td>Al Gore: Trump \"has failed as president, particularly on this challenge\"</td>\n",
              "      <td>(Al Gore, PERSON)</td>\n",
              "      <td>NaN</td>\n",
              "    </tr>\n",
              "    <tr>\n",
              "      <th>4</th>\n",
              "      <td>CNN</td>\n",
              "      <td>https://edition.cnn.com/world/live-news/coronavirus-pandemic-05-07-20-intl/index.html</td>\n",
              "      <td>Life will never be the same after the pandemic passes, says public health journalist</td>\n",
              "      <td>NaN</td>\n",
              "      <td>NaN</td>\n",
              "    </tr>\n",
              "    <tr>\n",
              "      <th>5</th>\n",
              "      <td>CNN</td>\n",
              "      <td>https://edition.cnn.com/world/live-news/coronavirus-pandemic-05-07-20-intl/index.html</td>\n",
              "      <td>Safe grocery shopping: \"Get in, get out,\" Dr. Sanjay Gupta says</td>\n",
              "      <td>(Sanjay Gupta, PERSON)</td>\n",
              "      <td>NaN</td>\n",
              "    </tr>\n",
              "    <tr>\n",
              "      <th>6</th>\n",
              "      <td>CNN</td>\n",
              "      <td>https://edition.cnn.com/world/live-news/coronavirus-pandemic-05-07-20-intl/index.html</td>\n",
              "      <td>\"We don't have a unified approach,\" public health journalist says</td>\n",
              "      <td>NaN</td>\n",
              "      <td>NaN</td>\n",
              "    </tr>\n",
              "    <tr>\n",
              "      <th>7</th>\n",
              "      <td>CNN</td>\n",
              "      <td>https://edition.cnn.com/world/live-news/coronavirus-pandemic-05-07-20-intl/index.html</td>\n",
              "      <td>Here are your questions, answered by health experts</td>\n",
              "      <td>NaN</td>\n",
              "      <td>NaN</td>\n",
              "    </tr>\n",
              "    <tr>\n",
              "      <th>8</th>\n",
              "      <td>CNN</td>\n",
              "      <td>https://edition.cnn.com/world/live-news/coronavirus-pandemic-05-07-20-intl/index.html</td>\n",
              "      <td>A 29-year-old volunteer explains why he's taking part in vaccine trials</td>\n",
              "      <td>NaN</td>\n",
              "      <td>NaN</td>\n",
              "    </tr>\n",
              "    <tr>\n",
              "      <th>9</th>\n",
              "      <td>CNN</td>\n",
              "      <td>https://www.nbcnews.com/health/health-news/social-distancing-could-have-devastating-effect-people-depression-n1157871</td>\n",
              "      <td>Coronavirus outbreak sparks mental health concerns</td>\n",
              "      <td>(Coronavirus, ORG)</td>\n",
              "      <td>NaN</td>\n",
              "    </tr>\n",
              "    <tr>\n",
              "      <th>10</th>\n",
              "      <td>CNN</td>\n",
              "      <td>https://www.nbcnews.com/health/health-news/social-distancing-could-have-devastating-effect-people-depression-n1157871</td>\n",
              "      <td>Willie and Morgan recommend shows and books for social distancing</td>\n",
              "      <td>(Willie, PERSON)</td>\n",
              "      <td>(Morgan, PERSON)</td>\n",
              "    </tr>\n",
              "  </tbody>\n",
              "</table>\n",
              "</div>"
            ],
            "text/plain": [
              "   Website  ...                             1\n",
              "0      CNN  ...                           NaN\n",
              "1      CNN  ...  (coronavirus town hall, ORG)\n",
              "2      CNN  ...        (the White House, FAC)\n",
              "3      CNN  ...                           NaN\n",
              "4      CNN  ...                           NaN\n",
              "5      CNN  ...                           NaN\n",
              "6      CNN  ...                           NaN\n",
              "7      CNN  ...                           NaN\n",
              "8      CNN  ...                           NaN\n",
              "9      CNN  ...                           NaN\n",
              "10     CNN  ...              (Morgan, PERSON)\n",
              "\n",
              "[11 rows x 5 columns]"
            ]
          },
          "metadata": {
            "tags": []
          },
          "execution_count": 16
        }
      ]
    },
    {
      "cell_type": "code",
      "metadata": {
        "id": "W32VHj8hPbxr"
      },
      "source": [
        "#from google.colab import files\n",
        "#news_df.to_csv('newsp.csv') \n",
        "#files.download(\"newsp.csv\")"
      ],
      "execution_count": null,
      "outputs": []
    },
    {
      "cell_type": "code",
      "metadata": {
        "id": "8u0yedOQsYez"
      },
      "source": [
        ""
      ],
      "execution_count": null,
      "outputs": []
    }
  ]
}